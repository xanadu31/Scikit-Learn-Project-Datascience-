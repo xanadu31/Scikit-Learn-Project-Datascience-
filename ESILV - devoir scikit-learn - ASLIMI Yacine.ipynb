{
 "cells": [
  {
   "cell_type": "markdown",
   "metadata": {},
   "source": [
    "\n",
    "<h1>Scikit-Learn</h1>\n",
    "\n",
    "Ce devoir s'appuie sur la mission évoquée en cours : vous avez deux fichiers dont chaque ligne représente un internaute :<br>\n",
    "1) X : une colonne par page web, et le nombre de visites de l'internaute<br>\n",
    "2) Y : des informations sur l'internaute : âge / sexe / âge bucketisé \n",
    "\n",
    "On demande de prévoir la tranche d'âge et le sexe en s'appuyant sur les innformations de pages vues. <br>\n",
    "Le notebook ci-après est un début de réponse à cette question. <br><br>\n",
    "<b>En partant de cette base il vous est demandé les 5 choses suivantes :</b>\n",
    "        \n",
    "1) Commentez le code avec des docstring multilignes en respectant la norme décrite ici : https://www.python.org/dev/peps/pep-0257/ <br>\n",
    "2) Rajoutez dans le code un calcul et affichage de temps d'éxécution des fonctions de search grid (utilisez <a href=https://docs.python.org/2/library/time.html> time</a> ou ctime). Les temps d'éxécutions sont ils acceptables en conditions réels ?  (Faites varier nb_lignes )<br>\n",
    "3) Ajoutez la fonction knn aux fonctions SVM et RF déjà testées ci-dessous<br>\n",
    "4) Choisissez un algorithme dans <a href=http://scikit-learn.org/stable>scikit-learn</a>, créez-lui une fonction de search-grid et appliquez le sur X, Y, pour la question de l'âge et celle du sexe. Affichez des scores, matrices de confusion, courbes ROC, temps d'éxécution...<br>\n",
    "5) Commentez les résultats des différents algorithmes<br>\n",
    "\n",
    "Vous rendrez votre notebook comme rapport (format normal : .ipynb) via un email avec comme sujet : <br>\n",
    "<b>ESILV - devoir scikit-learn - NOM EN MAJUSCULE Prénom <br></b>\n",
    "Devoir individuel, tout plagiat sera sanctionné.\n",
    "    "
   ]
  },
  {
   "cell_type": "code",
   "execution_count": null,
   "metadata": {
    "collapsed": true
   },
   "outputs": [],
   "source": [
    "\n"
   ]
  },
  {
   "cell_type": "markdown",
   "metadata": {},
   "source": [
    "# -1) Imports"
   ]
  },
  {
   "cell_type": "code",
   "execution_count": 5,
   "metadata": {
    "collapsed": false,
    "scrolled": true
   },
   "outputs": [],
   "source": [
    "\"\"\" Importation des différents modules utile ici Pandas, os, sys, itertools et numpy\"\"\"\n",
    "\n",
    "import pandas as pd\n",
    "import os\n",
    "import sys\n",
    "import numpy as np\n",
    "import itertools\n",
    "\n",
    "\"\"\" Importation des fonctions datatime, defaultimpact et matplotlib \"\"\"\n",
    "from datetime import datetime\n",
    "from collections import defaultdict\n",
    "\n",
    "%matplotlib inline"
   ]
  },
  {
   "cell_type": "code",
   "execution_count": 6,
   "metadata": {
    "collapsed": false
   },
   "outputs": [],
   "source": [
    "\"\"\" Importation des fonctions stats, pylab et plot\"\"\"\n",
    "\n",
    "import scipy.stats as stats\n",
    "import pylab\n",
    "import matplotlib.pyplot as plot"
   ]
  },
  {
   "cell_type": "markdown",
   "metadata": {},
   "source": [
    "# 0) useful functions"
   ]
  },
  {
   "cell_type": "code",
   "execution_count": 7,
   "metadata": {
    "collapsed": false
   },
   "outputs": [],
   "source": [
    "\"\"\"Fonction qui permet d'afficher l'heure, les minutes et les secondes du moment de lancement de la fonction\"\"\" \n",
    "\n",
    "def print_time():\n",
    "    import time\n",
    "    import datetime\n",
    "    t = datetime.datetime.now().time()\n",
    "    print t.isoformat()[:8]\n",
    "    return time.time()\n",
    "    \n",
    "    #A modifier: Temps Calc"
   ]
  },
  {
   "cell_type": "code",
   "execution_count": 8,
   "metadata": {
    "collapsed": true
   },
   "outputs": [],
   "source": [
    "\"\"\"Fonction qui trace une matrice de confusion\"\"\"\n",
    "def draw_confusion_matrix(y_test, predictions, title):\n",
    "    from sklearn.metrics import confusion_matrix,accuracy_score\n",
    "    import matplotlib.pyplot as plt\n",
    "    cm    = confusion_matrix(y_test, predictions)\n",
    "    accur = accuracy_score  (y_test, predictions)\n",
    "    \n",
    "    plt.matshow  (cm)\n",
    "    plt.ylabel   ('True Label')\n",
    "    plt.xlabel   ('Predicted Label')\n",
    "    plt.suptitle ('Confusion matrix (Accuracy of %.2f) for [%s]'%(accur,title))\n",
    "    plt.colorbar ()\n",
    "    plt.show     ()"
   ]
  },
  {
   "cell_type": "code",
   "execution_count": null,
   "metadata": {
    "collapsed": false
   },
   "outputs": [],
   "source": [
    "\"\"\" Fonction qui trace une courbe ROC en fonction du modèle choisi et des données x_test et y_test\"\"\"\n",
    "\n",
    "def draw_roc_curve(fitted_c, x_test, y_test, title):\n",
    "    from sklearn.metrics import roc_curve, auc\n",
    "    import matplotlib.pyplot as plt\n",
    "    c                                        = fitted_c\n",
    "    probas                                   = c.predict_proba(x_test)\n",
    "    false_positive_rate, recall_, thresholds = roc_curve(y_test, probas[:,1])\n",
    "    roc_auc                                  = auc(false_positive_rate, recall_)\n",
    "    \n",
    "    plt.title  ('ROC %.2f %s'%(roc_auc, title))\n",
    "    plt.legend (loc=\"lower right\")\n",
    "    plt.plot   ([0,1],[0,1], \"r--\")\n",
    "    plt.plot   (false_positive_rate, recall_, 'b', label='AUC = %.2f'%roc_auc)\n",
    "    plt.xlim   ([0.0,1.1])\n",
    "    plt.ylim   ([0.0,1.1])\n",
    "    plt.ylabel ('Recall')\n",
    "    plt.xlabel ('Fall-out')\n",
    "    plt.show()"
   ]
  },
  {
   "cell_type": "markdown",
   "metadata": {},
   "source": [
    "# 1) Chargement des données\n"
   ]
  },
  {
   "cell_type": "code",
   "execution_count": null,
   "metadata": {
    "collapsed": false
   },
   "outputs": [],
   "source": [
    "\"\"\"Chargement du fichier csv: base_x\"\"\"\n",
    "X = pd.read_csv(\"Archive\\\\base_x.csv\", index_col=0)"
   ]
  },
  {
   "cell_type": "code",
   "execution_count": null,
   "metadata": {
    "collapsed": false
   },
   "outputs": [],
   "source": [
    "\"\"\"Chargement du fichier csv base_y\"\"\"\n",
    "Y = pd.read_csv(\"Archive\\\\base_y.csv\", index_col=0)"
   ]
  },
  {
   "cell_type": "code",
   "execution_count": 86,
   "metadata": {
    "collapsed": false
   },
   "outputs": [],
   "source": [
    "\"\"\" Modification de la forme de la variable Y.shape\"\"\"\n",
    "assert(sum(Y.index == X.index) == Y.shape[0])"
   ]
  },
  {
   "cell_type": "markdown",
   "metadata": {},
   "source": [
    "# 1) first checks"
   ]
  },
  {
   "cell_type": "code",
   "execution_count": 9,
   "metadata": {
    "collapsed": false
   },
   "outputs": [
    {
     "name": "stdout",
     "output_type": "stream",
     "text": [
      "         Number of rows and columns : 39045 rows, 7 columns \n",
      "    Number of categorical variables : 1 variable, and 10 modalities\n",
      "       Number of values by modality :\n",
      "                                       (14, 18]   151\n",
      "                                       (18, 20]   357\n",
      "                                       (20, 25]  1734\n",
      "                                       (25, 30]  4070\n",
      "                                       (30, 35]  4150\n",
      "                                       (35, 40]  4702\n",
      "                                       (40, 45]  4591\n",
      "                                       (45, 65] 16136\n",
      "                                       (65, 70]  1743\n",
      "                                      (70, 150]  1411\n",
      "                  Moyenne des âges : 45.5\n",
      "                         Ecart type : 13.6\n",
      "           Frontière des Quartiles : 18.0 , 35.0 , 45.0 , 55.0 , 95.0\n",
      "          ecartement inter quartile : 17.0 , 10.0 , 10.0 , 40.0\n",
      "             Frontière des Deciles : 18.0 , 28.0 , 33.0 , 37.0 , 41.0 , 45.0 , 49.0 , 53.0 , 58.0 , 64.0\n",
      "            ecartement inter decile : 10.0 , 5.0 , 4.0 , 4.0 , 4.0 , 4.0 , 4.0 , 5.0 , 6.0\n"
     ]
    }
   ],
   "source": [
    "\"\"\" Description global de la donnée: Calcul des moyennes, ecart-type, décile et quartiles  \"\"\"\n",
    "\n",
    "for data in [Y]:\n",
    "    title = \"Number of rows and columns\"\n",
    "    print \"% 35s : %s rows, %s columns \"%(title, data.shape[0], data.shape[1])\n",
    "    title = \"Number of categorical variables\"\n",
    "    print \"% 35s : 1 variable, and 10 modalities\"%title\n",
    "    title = \"Number of values by modality\" \n",
    "    print \"% 35s :\"% (title)\n",
    "    t = data.bucket.value_counts()\n",
    "    t = t.sort_index()\n",
    "    for x,y in t.iteritems():\n",
    "        print \"% 37s % 9s % 5s\"%(\"\", x,y)\n",
    "\n",
    "    title = \"Moyenne des âges\"\n",
    "    print \"% 35s : %.1f\"%(title, data.age.mean())\n",
    "    title = \"Ecart type\"\n",
    "    print \"% 35s : %.1f\"%(title,data.age.std())\n",
    "\n",
    "    quartiles = {}\n",
    "    for i in range(5):\n",
    "        quartiles[i] = np.percentile(data.age, i*100/4)\n",
    "\n",
    "    title = \"Frontière des Quartiles\"\n",
    "    print \"% 35s : %s\"%(title, \" , \".join([\"%s\"%y for x,y in quartiles.iteritems()]))\n",
    "\n",
    "    title = \"ecartement inter quartile\"\n",
    "    print \"% 35s : %s\"%(title, \" , \".join([\"%s\"%(quartiles[i]-quartiles[i-1]) for i in range(1,5)]))\n",
    "\n",
    "\n",
    "    decile = {}\n",
    "    for i in range(10):\n",
    "        decile[i] = np.percentile(data.age, i*100/10)\n",
    "    title = \"Frontière des Deciles\"\n",
    "    print \"% 35s : %s\"%(title, \" , \".join([\"%s\"%y for x,y in decile.iteritems()]))\n",
    "\n",
    "    title = \"ecartement inter decile\"\n",
    "    print \"% 35s : %s\"%(title, \" , \".join([\"%s\"%(decile[i]-decile[i-1]) for i in range(1,10)]))\n"
   ]
  },
  {
   "cell_type": "markdown",
   "metadata": {},
   "source": [
    "# L'âge est-il normal ?"
   ]
  },
  {
   "cell_type": "code",
   "execution_count": 10,
   "metadata": {
    "collapsed": false
   },
   "outputs": [
    {
     "data": {
      "text/plain": [
       "((array([-4.13494008, -3.92652537, -3.81279465, ...,  3.81279465,\n",
       "          3.92652537,  4.13494008]),\n",
       "  array([ 18.,  18.,  18., ...,  94.,  95.,  95.])),\n",
       " (13.475733117621841, 45.471046228710456, 0.9929491353419202))"
      ]
     },
     "execution_count": 10,
     "metadata": {},
     "output_type": "execute_result"
    },
    {
     "data": {
      "image/png": "[encoded data removed]",
      "text/plain": [
       "<matplotlib.figure.Figure at 0xaf9ef28>"
      ]
     },
     "metadata": {},
     "output_type": "display_data"
    }
   ],
   "source": [
    "\"\"\"Clacul de la variance expliqué sur les données de l'age\"\"\"\n",
    "stats.probplot(Y.age, dist=\"norm\", plot=pylab)\n"
   ]
  },
  {
   "cell_type": "markdown",
   "metadata": {},
   "source": [
    "On remarque que la variance expliquée R2 est très proche de 1 cad R^2 = 0.9859."
   ]
  },
  {
   "cell_type": "markdown",
   "metadata": {},
   "source": [
    "# 2) binarization des âges"
   ]
  },
  {
   "cell_type": "code",
   "execution_count": 11,
   "metadata": {
    "collapsed": false
   },
   "outputs": [],
   "source": [
    "\"\"\" On définie dans un tableau une liste des ages \"\"\"\n",
    "bins = np.array([13,19,24,29, 34, 39, 44,49,54,59,100])\n",
    "labels = pd.cut(data.age, bins)\n",
    "Y['bucketed_age'] = labels"
   ]
  },
  {
   "cell_type": "code",
   "execution_count": 12,
   "metadata": {
    "collapsed": false
   },
   "outputs": [],
   "source": [
    "dataSerie = pd.Series(Y.bucketed_age)"
   ]
  },
  {
   "cell_type": "code",
   "execution_count": 13,
   "metadata": {
    "collapsed": false
   },
   "outputs": [
    {
     "name": "stderr",
     "output_type": "stream",
     "text": [
      "C:\\Users\\Yacine\\Anaconda3\\envs\\py27\\lib\\site-packages\\ipykernel\\__main__.py:1: FutureWarning: sort is deprecated, use sort_values(inplace=True) for for INPLACE sorting\n",
      "  if __name__ == '__main__':\n"
     ]
    }
   ],
   "source": [
    "dataSerie.sort()\n",
    "x = dataSerie.value_counts()"
   ]
  },
  {
   "cell_type": "code",
   "execution_count": 14,
   "metadata": {
    "collapsed": false
   },
   "outputs": [],
   "source": [
    "x = x.sort_index()"
   ]
  },
  {
   "cell_type": "code",
   "execution_count": 15,
   "metadata": {
    "collapsed": false
   },
   "outputs": [
    {
     "data": {
      "text/plain": [
       "<matplotlib.axes._subplots.AxesSubplot at 0x261999e8>"
      ]
     },
     "execution_count": 15,
     "metadata": {},
     "output_type": "execute_result"
    },
    {
     "data": {
      "image/png": "[encoded data removed]",
      "text/plain": [
       "<matplotlib.figure.Figure at 0x52917e80>"
      ]
     },
     "metadata": {},
     "output_type": "display_data"
    }
   ],
   "source": [
    "\"\"\"On trace un histogramme: repartition du nombre de personnes en fonction de leurs ages\"\"\"\n",
    "title=\"Age prediction :a  multi-class classification problem\"\n",
    "x.plot(kind=\"bar\", title=title)"
   ]
  },
  {
   "cell_type": "markdown",
   "metadata": {},
   "source": [
    "# 4) grid search (Les fonctions)"
   ]
  },
  {
   "cell_type": "code",
   "execution_count": 16,
   "metadata": {
    "collapsed": true
   },
   "outputs": [],
   "source": [
    "\"\"\"  On crée une grid search comprenant une fonction Random Forest\"\"\"\n",
    "def RandomForest_grid_search(df, Y):\n",
    "    start = print_time() #Définition de la fonction calcul de temps\n",
    "    \"\"\" Importation des packages utile à la grid search\"\"\"\n",
    "    import sys, pickle\n",
    "    from sklearn.ensemble          import RandomForestClassifier\n",
    "    from sklearn                   import grid_search\n",
    "    from sklearn.metrics           import make_scorer\n",
    "    from sklearn.preprocessing     import label_binarize\n",
    "    from sklearn.multiclass        import OneVsRestClassifier\n",
    "    #grid search :\n",
    "    \"\"\" Définition des parametres de la fonction Randoma forest\"\"\"\n",
    "    \n",
    "    \n",
    "    parameters = {  \"n_estimators\"         : [ 10, 100, 200 ], \n",
    "                    \"min_samples_leaf\"     : [  3,   1,   7 ],\n",
    "                    \"criterion\"            : [\"gini\"],#[\"gini\", \"entropy\"]         ,\n",
    "                    \"max_features\"         : [\"auto\"]      ,\n",
    "                    \"max_depth\"            : [None]         , \n",
    "                    \"n_jobs\"               : [ -1]             ,  \n",
    "                    \"class_weight\"         : [\"auto\"]          ,\n",
    "                    \"warm_start\"           : [False]           }\n",
    "    parameters = {  \"n_estimators\"         : [ 10], \n",
    "                    \"min_samples_leaf\"     : [  3 ],\n",
    "                    \"criterion\"            : [\"gini\"],#[\"gini\", \"entropy\"]         ,\n",
    "                    \"max_features\"         : [\"auto\"]      ,\n",
    "                    \"max_depth\"            : [None]         , \n",
    "                    \"n_jobs\"               : [ -1]             ,  \n",
    "                    \"class_weight\"         : [\"auto\"]          ,\n",
    "                    \"warm_start\"           : [False]           }\n",
    "    \n",
    "    grid_type = \"RandomForestClassifier\"\n",
    "    \n",
    "    print \"-\"*30, \"\\n %s\"%grid_type; sys.stdout.flush()\n",
    "    \"\"\"\n",
    "        Search \n",
    "    \"\"\"\n",
    "    \n",
    "    \"\"\" Appel de la grid_search random forest\"\"\"\n",
    "    grid         = grid_search.GridSearchCV(RandomForestClassifier(), {})#, parameters, verbose=1, scoring='f1_weighted')\n",
    "    \n",
    "    try :grid.fit(df, Y)\n",
    "    except Exception as e : print \"[%s - 2] : %s\"%(grid_type,e) \n",
    "    \n",
    "    print \" best_score_ %s with =  %s \"%( grid.best_score_,  grid.best_estimator_ ) ; sys.stdout.flush()   \n",
    "    \n",
    "    end = print_time() #Affichage temps fin d'éxécution\n",
    "    print end - start # Calcul du temps d'éxécution de l'algorithme\n",
    "    return grid.best_estimator_"
   ]
  },
  {
   "cell_type": "code",
   "execution_count": 17,
   "metadata": {
    "collapsed": true
   },
   "outputs": [],
   "source": [
    "\"\"\" On crée une grid search comprenant une fonction SVM \"\"\"\n",
    "def svm_grid_search(df, Y):\n",
    "    start = print_time() #Définition de la fonction calcul de temps\n",
    "    import sys\n",
    "    from sklearn                   import grid_search\n",
    "    from sklearn.svm               import SVC\n",
    "    import pickle\n",
    "    parameters = {  \"C\"              : [1.0],#, 0.5, 0.1, 2]                , \n",
    "                    \"kernel\"         : ['rbf'],#, 'poly', 'sigmoid']        ,\n",
    "                    \"degree\"         : [2],#, 3, 4,5,6]                     , \n",
    "                    \"gamma\"          : [0.01],#, 0.1, 0.001, 0.5]           , \n",
    "                    \"coef0\"          : [0.0]                             , \n",
    "                    \"shrinking\"      : [True]                            , \n",
    "                    \"probability\"    : [True]                            , \n",
    "                    \"tol\"            : [0.001]                           , \n",
    "                    \"cache_size\"     : [10]                              , \n",
    "                    \"class_weight\"   : [None]                            , \n",
    "                    \"verbose\"        : [False]                           , \n",
    "                    \"max_iter\"       : [-1]                              , \n",
    "                    \"random_state\"   : [None]                            }\n",
    "   \n",
    "    \n",
    "    \n",
    "    print \"-\"*30, \"\\n svm_grid_search\"; sys.stdout.flush()\n",
    "    \n",
    "    \"\"\"\n",
    "        Search Grid\n",
    "    \"\"\"\n",
    "    grid    = grid_search.GridSearchCV(SVC(), parameters, verbose=0, scoring='f1_weighted')\n",
    "    try :grid.fit(df, Y)\n",
    "    except Exception as e : print \"[svm_grid_search - 2] : %s\"%e ; print \"x_train, y_train : \", x_train, y_train\n",
    "\n",
    "    print \" best_score_ = %.2f with =  %s \"%(grid.best_score_, grid.best_estimator_ ) ; sys.stdout.flush() \n",
    "    end = print_time() #Affichage temps fin d'éxécution\n",
    "    print end - start # Calcul du temps d'éxécution de l'algorithme\n",
    "    return grid.best_estimator_"
   ]
  },
  {
   "cell_type": "code",
   "execution_count": 79,
   "metadata": {
    "collapsed": false
   },
   "outputs": [],
   "source": [
    "\"\"\"  On crée une grid search comprenant une fonction KNN\"\"\"\n",
    "def knn_grid_search(df, Y):\n",
    "    start = print_time() #Définition de la fonction calcul de temps\n",
    "    import sys\n",
    "    from sklearn import grid_search\n",
    "    from sklearn.neighbors import KNeighborsClassifier\n",
    "    import pickle\n",
    "    parameters = { \"n_neighbors\" : [2, 3, 5, 8 , 10] , \n",
    "     \"weights\" : ['uniform', 'distance'] ,\n",
    "     \"algorithm\" : ['auto', 'ball_tree', 'kd_tree', 'brute'] , \n",
    "     \"leaf_size\" : [1,3 ] }\n",
    "\n",
    "    grid_type = \"knn_grid_search\"\n",
    "    print \"-\"*30, \"\\n %s\"%grid_type; sys.stdout.flush()\n",
    "    \"\"\"\n",
    "    Search Grid\n",
    "    \"\"\"\n",
    "    print parameters;sys.stdout.flush()\n",
    "    grid = grid_search.GridSearchCV(KNeighborsClassifier(), parameters, verbose=0, scoring='f1_weighted')\n",
    "    try :grid.fit(df, Y)\n",
    "    except Exception as e : print \"Error : [%s - 2] : %s\"%(grid_type,e) ; return -1\n",
    "    print \" best_score_ = %.2f with = %s \"%(grid.best_score_, grid.best_estimator_ ) ; sys.stdout.flush() \n",
    "    end = print_time() #Affichage temps fin d'éxécution\n",
    "    print end - start # Calcul du temps d'éxécution de l'algorithme\n",
    "    return grid\n",
    "\n"
   ]
  },
  {
   "cell_type": "code",
   "execution_count": 2,
   "metadata": {
    "collapsed": false
   },
   "outputs": [],
   "source": [
    "\"\"\"  On crée une grid search comprenant une fonction SGD\"\"\"\n",
    "def SGDClassifier_grid_search(df, Y):\n",
    "    start = print_time() #Définition de la fonction calcul de temps\n",
    "    from sklearn                   import grid_search\n",
    "    from sklearn.linear_model import SGDClassifier\n",
    "    from sklearn import linear_model\n",
    "    import pickle\n",
    "\n",
    "    \n",
    "    \n",
    "    parameters = { \"loss\" : [\"log\", \"modified_huber\" , \"loss\"],\n",
    "                  \"penalty\" : [ \"l2\",\"l1\", \"elasticnet\"],\n",
    "                  \"class_weight\": [None, \"balanced\"],\n",
    "                  \"n_iter\" : [3,4,5]    \n",
    "    }\n",
    "\n",
    "    \n",
    "\n",
    "\n",
    "    \n",
    "    \n",
    "    grid_type = \"SGD_grid_search\"\n",
    "    print \"-\"*30, \"\\n %s\"%grid_type; sys.stdout.flush()\n",
    "    \"\"\"\n",
    "        Search Grid\n",
    "    \"\"\"\n",
    "    \n",
    "    print parameters;sys.stdout.flush()\n",
    "    grid    = grid_search.GridSearchCV(SGDClassifier(), parameters, verbose=0, scoring='f1_weighted')\n",
    "    try :grid.fit(df, Y)\n",
    "    except Exception as e : print \"[%s - 2] : %s\"%(grid_type,e) ; print \"x_train, y_train : \", X_train, Y_train\n",
    "\n",
    "    print \" best_score_ = %.2f with =  %s \"%(grid.best_score_, grid.best_estimator_ ) ; sys.stdout.flush()    \n",
    "    end = print_time() #Affichage temps fin d'éxécution\n",
    "    print end - start # Calcul du temps d'éxécution de l'algorithme\n",
    "    return grid"
   ]
  },
  {
   "cell_type": "markdown",
   "metadata": {},
   "source": [
    "5) Application grid search (Appel des fonctions)"
   ]
  },
  {
   "cell_type": "markdown",
   "metadata": {},
   "source": [
    "5.1) Age"
   ]
  },
  {
   "cell_type": "code",
   "execution_count": 63,
   "metadata": {
    "collapsed": false
   },
   "outputs": [],
   "source": [
    "\"\"\" Importation de la fonction split\"\"\"\n",
    "from sklearn.cross_validation import train_test_split"
   ]
  },
  {
   "cell_type": "code",
   "execution_count": 64,
   "metadata": {
    "collapsed": false
   },
   "outputs": [],
   "source": [
    "\"\"\" Splitage du jeu de données en 4 sous jeux, deux de type test et deux de type train\"\"\"\n",
    "X_train, X_test, Y_train, Y_test = train_test_split(X, Y.bucket_en_entier)"
   ]
  },
  {
   "cell_type": "markdown",
   "metadata": {},
   "source": [
    "### 5.1.1) svm"
   ]
  },
  {
   "cell_type": "code",
   "execution_count": 65,
   "metadata": {
    "collapsed": false
   },
   "outputs": [
    {
     "name": "stdout",
     "output_type": "stream",
     "text": [
      "------------------------------ \n",
      " svm_grid_search\n",
      " best_score_ = 0.24 with =  SVC(C=1.0, cache_size=10, class_weight=None, coef0=0.0,\n",
      "  decision_function_shape=None, degree=2, gamma=0.01, kernel='rbf',\n",
      "  max_iter=-1, probability=True, random_state=None, shrinking=True,\n",
      "  tol=0.001, verbose=False) \n"
     ]
    }
   ],
   "source": [
    "\"\"\" Pour la variable age, on test le modele SVM\"\"\"\n",
    "nb_lignes = 100\n",
    "svm = svm_grid_search(X_train[:nb_lignes], Y_train[:nb_lignes].get_values())"
   ]
  },
  {
   "cell_type": "code",
   "execution_count": 66,
   "metadata": {
    "collapsed": false
   },
   "outputs": [
    {
     "data": {
      "image/png": "[encoded data removed]",
      "text/plain": [
       "<matplotlib.figure.Figure at 0x67e5e588>"
      ]
     },
     "metadata": {},
     "output_type": "display_data"
    }
   ],
   "source": [
    "\"\"\" Matrice de confusion pour SVM: Accuracy = 0.41  \"\"\"\n",
    "\"\"\" Faux positifs ou  faux negatifs: 0.59\"\"\"\n",
    "\"\"\"  Vrai positifs ou vrai negatifs : 0.41\"\"\"\n",
    "\n",
    "\"\"\" Par rapport à la norme .5 : .41 modele peu fiable  \"\"\"\n",
    "\n",
    "draw_confusion_matrix(Y_test, svm.predict(X_test), \"\")"
   ]
  },
  {
   "cell_type": "code",
   "execution_count": 67,
   "metadata": {
    "collapsed": true
   },
   "outputs": [],
   "source": [
    "####5.1.2) Random Forest\n",
    "\n",
    "\"\"\" Pour la variable age, on test le modele Random Forest\"\"\""
   ]
  },
  {
   "cell_type": "code",
   "execution_count": 68,
   "metadata": {
    "collapsed": false
   },
   "outputs": [
    {
     "name": "stdout",
     "output_type": "stream",
     "text": [
      "------------------------------ \n",
      " RandomForestClassifier\n",
      " best_score_ 0.6 with =  RandomForestClassifier(bootstrap=True, class_weight=None, criterion='gini',\n",
      "            max_depth=None, max_features='auto', max_leaf_nodes=None,\n",
      "            min_samples_leaf=1, min_samples_split=2,\n",
      "            min_weight_fraction_leaf=0.0, n_estimators=10, n_jobs=1,\n",
      "            oob_score=False, random_state=None, verbose=0,\n",
      "            warm_start=False) \n"
     ]
    }
   ],
   "source": [
    "nb_lignes = 10\n",
    "rf = RandomForest_grid_search(X_train[:nb_lignes], Y_train[:nb_lignes].get_values())"
   ]
  },
  {
   "cell_type": "code",
   "execution_count": 69,
   "metadata": {
    "collapsed": false
   },
   "outputs": [
    {
     "data": {
      "image/png": "[encoded data removed]",
      "text/plain": [
       "<matplotlib.figure.Figure at 0x67e5e8d0>"
      ]
     },
     "metadata": {},
     "output_type": "display_data"
    }
   ],
   "source": [
    "\"\"\" Matrice de confusion pour Random Forest: Accuracy = 0.28  \"\"\"\n",
    "\"\"\" Faux positifs ou  faux negatifs: 0.72\"\"\"\n",
    "\"\"\"  Vrai positifs ou vrai negatifs : 0.28\"\"\"\n",
    "\n",
    "\"\"\" Par rapport à la norme .5 : .28 modele peu fiable  \"\"\"\n",
    "draw_confusion_matrix(Y_test, rf.predict(X_test), \"\")"
   ]
  },
  {
   "cell_type": "code",
   "execution_count": 70,
   "metadata": {
    "collapsed": true
   },
   "outputs": [],
   "source": [
    "####5.1.3) Knn Neighbourg"
   ]
  },
  {
   "cell_type": "code",
   "execution_count": 80,
   "metadata": {
    "collapsed": false
   },
   "outputs": [
    {
     "name": "stdout",
     "output_type": "stream",
     "text": [
      "------------------------------ \n",
      " knn_grid_search\n",
      "{'n_neighbors': [2, 3, 5, 8, 10], 'weights': ['uniform', 'distance'], 'leaf_size': [1, 3], 'algorithm': ['auto', 'ball_tree', 'kd_tree', 'brute']}\n",
      "Error : [knn_grid_search - 2] : Expected n_neighbors <= n_samples,  but n_samples = 4, n_neighbors = 5\n"
     ]
    }
   ],
   "source": [
    "\"\"\" Pour la variable age, on test le modele knn\"\"\"\n",
    "nb_lignes = 10\n",
    "rf = knn_grid_search(X_train[:nb_lignes], Y_train[:nb_lignes].get_values())"
   ]
  },
  {
   "cell_type": "code",
   "execution_count": 87,
   "metadata": {
    "collapsed": false
   },
   "outputs": [
    {
     "data": {
      "image/png": "[encoded data removed]",
      "text/plain": [
       "<matplotlib.figure.Figure at 0x20a17198>"
      ]
     },
     "metadata": {},
     "output_type": "display_data"
    }
   ],
   "source": [
    "\"\"\" Matrice de confusion pour knn\"\"\"\n",
    "\n",
    "\"\"\" Matrice de confusion pour Random Forest: Accuracy = 0.55  \"\"\"\n",
    "\"\"\" Faux positifs ou  faux negatifs: 0.45\"\"\"\n",
    "\"\"\"  Vrai positifs ou vrai negatifs : 0.55\"\"\"\n",
    "\n",
    "\"\"\" Par rapport à la norme .5 : .55 modele fiable  \"\"\"\n",
    "draw_confusion_matrix(Y_test, knn.predict(X_test), \"\")"
   ]
  },
  {
   "cell_type": "code",
   "execution_count": null,
   "metadata": {
    "collapsed": true
   },
   "outputs": [],
   "source": [
    "# 5.1.4) SGDClassifier"
   ]
  },
  {
   "cell_type": "code",
   "execution_count": 3,
   "metadata": {
    "collapsed": false
   },
   "outputs": [
    {
     "ename": "NameError",
     "evalue": "name 'X_train' is not defined",
     "output_type": "error",
     "traceback": [
      "\u001b[1;31m---------------------------------------------------------------------------\u001b[0m",
      "\u001b[1;31mNameError\u001b[0m                                 Traceback (most recent call last)",
      "\u001b[1;32m<ipython-input-3-c0310c62be87>\u001b[0m in \u001b[0;36m<module>\u001b[1;34m()\u001b[0m\n\u001b[0;32m      1\u001b[0m \u001b[0mnb_lignes\u001b[0m \u001b[1;33m=\u001b[0m \u001b[1;36m10\u001b[0m\u001b[1;33m\u001b[0m\u001b[0m\n\u001b[1;32m----> 2\u001b[1;33m \u001b[0msgdc\u001b[0m \u001b[1;33m=\u001b[0m \u001b[0mSGDClassifier_grid_search\u001b[0m\u001b[1;33m(\u001b[0m\u001b[0mX_train\u001b[0m\u001b[1;33m[\u001b[0m\u001b[1;33m:\u001b[0m\u001b[0mnb_lignes\u001b[0m\u001b[1;33m]\u001b[0m\u001b[1;33m,\u001b[0m \u001b[0mY_train\u001b[0m\u001b[1;33m[\u001b[0m\u001b[1;33m:\u001b[0m\u001b[0mnb_lignes\u001b[0m\u001b[1;33m]\u001b[0m\u001b[1;33m.\u001b[0m\u001b[0mget_values\u001b[0m\u001b[1;33m(\u001b[0m\u001b[1;33m)\u001b[0m\u001b[1;33m)\u001b[0m\u001b[1;33m\u001b[0m\u001b[0m\n\u001b[0m",
      "\u001b[1;31mNameError\u001b[0m: name 'X_train' is not defined"
     ]
    }
   ],
   "source": [
    "nb_lignes = 10\n",
    "sgdc = SGDClassifier_grid_search(X_train[:nb_lignes], Y_train[:nb_lignes].get_values())"
   ]
  },
  {
   "cell_type": "markdown",
   "metadata": {},
   "source": [
    "## 5.2) Sex"
   ]
  },
  {
   "cell_type": "code",
   "execution_count": 81,
   "metadata": {
    "collapsed": true
   },
   "outputs": [],
   "source": [
    "\"\"\" Pour la variable age, on split les données en 4 sous jeu de données, X_train, X_test, Y_train, Y_test\"\"\"\n",
    "\n",
    "X_train, X_test, Y_train, Y_test = train_test_split(X, Y.Sex)"
   ]
  },
  {
   "cell_type": "markdown",
   "metadata": {},
   "source": [
    "### 5.2.1) Random Forest"
   ]
  },
  {
   "cell_type": "code",
   "execution_count": 88,
   "metadata": {
    "collapsed": false
   },
   "outputs": [
    {
     "name": "stdout",
     "output_type": "stream",
     "text": [
      "------------------------------ \n",
      " RandomForestClassifier\n",
      " best_score_ 0.7059 with =  RandomForestClassifier(bootstrap=True, class_weight=None, criterion='gini',\n",
      "            max_depth=None, max_features='auto', max_leaf_nodes=None,\n",
      "            min_samples_leaf=1, min_samples_split=2,\n",
      "            min_weight_fraction_leaf=0.0, n_estimators=10, n_jobs=1,\n",
      "            oob_score=False, random_state=None, verbose=0,\n",
      "            warm_start=False) \n"
     ]
    }
   ],
   "source": [
    "\"\"\" Test de Random forest pour 100 lignes\"\"\"\n",
    "nb_lignes = 10000\n",
    "rf = RandomForest_grid_search(X_train[:nb_lignes], Y_train[:nb_lignes])"
   ]
  },
  {
   "cell_type": "code",
   "execution_count": 89,
   "metadata": {
    "collapsed": false
   },
   "outputs": [
    {
     "data": {
      "image/png": "[encoded data removed]",
      "text/plain": [
       "<matplotlib.figure.Figure at 0x56a64080>"
      ]
     },
     "metadata": {},
     "output_type": "display_data"
    }
   ],
   "source": [
    "\"\"\" .77 pour 100\"\"\"\n",
    "\"\"\" supérieur à .5: Très bonne prédiction \"\"\"\n",
    "draw_roc_curve(rf, X_test, Y_test, \"Sex prediction by RF\")"
   ]
  },
  {
   "cell_type": "code",
   "execution_count": 38,
   "metadata": {
    "collapsed": false
   },
   "outputs": [
    {
     "data": {
      "image/png": "[encoded data removed]",
      "text/plain": [
       "<matplotlib.figure.Figure at 0x4eb06470>"
      ]
     },
     "metadata": {},
     "output_type": "display_data"
    }
   ],
   "source": [
    "draw_confusion_matrix(Y_test, rf.predict(X_test), \"\")"
   ]
  },
  {
   "cell_type": "markdown",
   "metadata": {},
   "source": [
    " 5.2.2) SVM"
   ]
  },
  {
   "cell_type": "code",
   "execution_count": 39,
   "metadata": {
    "collapsed": false
   },
   "outputs": [
    {
     "name": "stdout",
     "output_type": "stream",
     "text": [
      "------------------------------ \n",
      " svm_grid_search\n",
      " best_score_ = 0.41 with =  SVC(C=1.0, cache_size=10, class_weight=None, coef0=0.0,\n",
      "  decision_function_shape=None, degree=2, gamma=0.01, kernel='rbf',\n",
      "  max_iter=-1, probability=True, random_state=None, shrinking=True,\n",
      "  tol=0.001, verbose=False) \n"
     ]
    }
   ],
   "source": [
    "nb_ligne = 100\n",
    "svm = svm_grid_search(X_train[:nb_ligne], Y_train[:nb_ligne])"
   ]
  },
  {
   "cell_type": "code",
   "execution_count": 40,
   "metadata": {
    "collapsed": false
   },
   "outputs": [
    {
     "data": {
      "image/png": "[encoded data removed]",
      "text/plain": [
       "<matplotlib.figure.Figure at 0x51353cf8>"
      ]
     },
     "metadata": {},
     "output_type": "display_data"
    }
   ],
   "source": [
    "draw_roc_curve(svm, X_test, Y_test, \"Sex prediction by SVM\")"
   ]
  },
  {
   "cell_type": "code",
   "execution_count": 41,
   "metadata": {
    "collapsed": false
   },
   "outputs": [
    {
     "data": {
      "image/png": "[encoded data removed]",
      "text/plain": [
       "<matplotlib.figure.Figure at 0x380222b0>"
      ]
     },
     "metadata": {},
     "output_type": "display_data"
    }
   ],
   "source": [
    "draw_confusion_matrix(Y_test, svm.predict(X_test), \"\")"
   ]
  },
  {
   "cell_type": "markdown",
   "metadata": {},
   "source": [
    "#### 5.2.3 Knn neighbourg"
   ]
  },
  {
   "cell_type": "code",
   "execution_count": 42,
   "metadata": {
    "collapsed": false
   },
   "outputs": [
    {
     "name": "stdout",
     "output_type": "stream",
     "text": [
      "\n",
      "------------------------------ \n",
      " knn_grid_search\n",
      "{'n_neighbors': [2, 3, 5, 8, 10], 'weights': ['uniform', 'distance'], 'leaf_size': [1, 3], 'algorithm': ['auto', 'ball_tree', 'kd_tree', 'brute']}\n",
      " best_score_ = 0.62 with =  KNeighborsClassifier(algorithm='auto', leaf_size=1, metric='minkowski',\n",
      "           metric_params=None, n_jobs=1, n_neighbors=2, p=2,\n",
      "           weights='distance') \n"
     ]
    }
   ],
   "source": [
    "#Fonction knn\n",
    "nb_ligne = 100\n",
    "knn = knn_grid_search(X_train[:nb_ligne], Y_train[:nb_ligne])"
   ]
  },
  {
   "cell_type": "code",
   "execution_count": 43,
   "metadata": {
    "collapsed": false
   },
   "outputs": [
    {
     "data": {
      "image/png": "[encoded data removed]",
      "text/plain": [
       "<matplotlib.figure.Figure at 0x4eaf0860>"
      ]
     },
     "metadata": {},
     "output_type": "display_data"
    }
   ],
   "source": [
    "#Roc\n",
    "\n",
    "\"\"\" Score = 0.67 pour 10 lignes > 0.5: bonne prédiction\"\"\"\n",
    "draw_roc_curve(knn, X_test, Y_test, \"Sex prediction by SVM\")"
   ]
  },
  {
   "cell_type": "code",
   "execution_count": 44,
   "metadata": {
    "collapsed": false
   },
   "outputs": [
    {
     "data": {
      "image/png": "[encoded data removed]",
      "text/plain": [
       "<matplotlib.figure.Figure at 0x274529b0>"
      ]
     },
     "metadata": {},
     "output_type": "display_data"
    }
   ],
   "source": [
    "#Matrice de confusion\n",
    "\n",
    "\"\"\" Accracy : 0.55  >.5  : bonne prédiction\"\"\"\n",
    " \n",
    "    \n",
    "draw_confusion_matrix(Y_test, knn.predict(X_test), \"\")"
   ]
  },
  {
   "cell_type": "code",
   "execution_count": null,
   "metadata": {
    "collapsed": true
   },
   "outputs": [],
   "source": []
  },
  {
   "cell_type": "markdown",
   "metadata": {},
   "source": [
    "5.2.4) SGDClassifier"
   ]
  },
  {
   "cell_type": "code",
   "execution_count": 82,
   "metadata": {
    "collapsed": false
   },
   "outputs": [
    {
     "name": "stdout",
     "output_type": "stream",
     "text": [
      "------------------------------ \n",
      " SGD_grid_search\n",
      "{'penalty': ['l2', 'l1', 'elasticnet'], 'loss': ['log', 'modified_huber', 'loss'], 'n_iter': [2, 5, 8], 'class_weight': [None, 'balanced']}\n",
      "[SGD_grid_search - 2] : The loss loss is not supported. \n",
      "x_train, y_train :         aag.schlau  aag.schlaudanke  adac.aktuelleverkehrslage  \\\n",
      "17788           0                0                          0   \n",
      "19816           0                0                          0   \n",
      "34513           0                0                          0   \n",
      "23777           0                0                          0   \n",
      "24990           0                0                          0   \n",
      "24431           0                0                          0   \n",
      "3492            0                0                          0   \n",
      "32633           0                0                          0   \n",
      "30220           0                0                          0   \n",
      "22797           0                0                          0   \n",
      "16920           0                0                          0   \n",
      "26767           0                0                          0   \n",
      "11152           0                0                          0   \n",
      "17041           0                0                          0   \n",
      "34011           0                0                          0   \n",
      "37556           0                0                          0   \n",
      "11690           0                0                          0   \n",
      "30521           0                0                          0   \n",
      "38228           0                0                          0   \n",
      "14255           0                0                          0   \n",
      "19054           0                0                          0   \n",
      "3719            0                0                          0   \n",
      "28309           0                0                          0   \n",
      "2374            0                0                          0   \n",
      "3428            0                0                          0   \n",
      "36523           0                0                          0   \n",
      "29638           0                0                          0   \n",
      "17707           0                0                          0   \n",
      "17950          11                0                          0   \n",
      "16128           0                0                          0   \n",
      "...           ...              ...                        ...   \n",
      "5722            0                0                          0   \n",
      "36589           0                0                          0   \n",
      "36590           0                0                          0   \n",
      "15349           0                0                          0   \n",
      "14798           0                0                          0   \n",
      "8713            0                0                          0   \n",
      "29649           0                0                          0   \n",
      "7835            0                0                          0   \n",
      "4093            0                0                          0   \n",
      "32127           0                0                          0   \n",
      "31000           0                0                          0   \n",
      "31561           0                0                          0   \n",
      "26440           0                0                          0   \n",
      "29215           0                0                          0   \n",
      "39023           0                0                          0   \n",
      "10943           0                0                          0   \n",
      "10301           0                0                          0   \n",
      "24235           0                0                          0   \n",
      "35802           0                0                          0   \n",
      "21801           0                0                          0   \n",
      "25652           0                0                          0   \n",
      "16270           0                0                          0   \n",
      "35820           0                0                          0   \n",
      "8357            0                0                          0   \n",
      "34705           0                0                          0   \n",
      "20188           0                0                          0   \n",
      "37212           0                0                          0   \n",
      "25934           0                0                          0   \n",
      "28979           0                0                          0   \n",
      "28810           0                0                          0   \n",
      "\n",
      "       adac.alpenstrassen  adac.alternativekraftstoffe  adac.andertankstelle  \\\n",
      "17788                   0                            0                     0   \n",
      "19816                   0                            0                     0   \n",
      "34513                   0                            0                     0   \n",
      "23777                   0                            0                     0   \n",
      "24990                   0                            0                     0   \n",
      "24431                   0                            0                     0   \n",
      "3492                    0                            0                     0   \n",
      "32633                   0                            0                     0   \n",
      "30220                   0                            0                     0   \n",
      "22797                   0                            0                     0   \n",
      "16920                   0                            0                     0   \n",
      "26767                   0                            0                     0   \n",
      "11152                   0                            0                     0   \n",
      "17041                   0                            0                     0   \n",
      "34011                   0                            0                     0   \n",
      "37556                   0                            0                     0   \n",
      "11690                   0                            0                     0   \n",
      "30521                   0                            0                     0   \n",
      "38228                   0                            0                     0   \n",
      "14255                   0                            0                     0   \n",
      "19054                   0                            0                     0   \n",
      "3719                    0                            0                     0   \n",
      "28309                   0                            0                     0   \n",
      "2374                    0                            0                     0   \n",
      "3428                    0                            0                     0   \n",
      "36523                   0                            0                     0   \n",
      "29638                   0                            0                     0   \n",
      "17707                   0                            0                     0   \n",
      "17950                   0                            0                     0   \n",
      "16128                   0                            0                     0   \n",
      "...                   ...                          ...                   ...   \n",
      "5722                    0                            0                     0   \n",
      "36589                   0                            0                     0   \n",
      "36590                   0                            0                     0   \n",
      "15349                   0                            0                     0   \n",
      "14798                   0                            0                     0   \n",
      "8713                    0                            0                     0   \n",
      "29649                   0                            0                     0   \n",
      "7835                    0                            0                     0   \n",
      "4093                    0                            0                     0   \n",
      "32127                   0                            0                     0   \n",
      "31000                   0                            0                     0   \n",
      "31561                   0                            0                     0   \n",
      "26440                   0                            0                     0   \n",
      "29215                   0                            0                     0   \n",
      "39023                   0                            0                     0   \n",
      "10943                   0                            0                     0   \n",
      "10301                   0                            0                     0   \n",
      "24235                   0                            0                     0   \n",
      "35802                   0                            0                     0   \n",
      "21801                   0                            0                     0   \n",
      "25652                   0                            0                     0   \n",
      "16270                   0                            0                     0   \n",
      "35820                   0                            0                     0   \n",
      "8357                    0                            0                     0   \n",
      "34705                   0                            0                     0   \n",
      "20188                   0                            0                     0   \n",
      "37212                   0                            0                     0   \n",
      "25934                   0                            0                     0   \n",
      "28979                   0                            0                     0   \n",
      "28810                   0                            0                     0   \n",
      "\n",
      "       adac.auslandlzhome  adac.auslandlzkont  adac.auslandlzrechner  \\\n",
      "17788                   0                   0                      0   \n",
      "19816                   0                   0                      0   \n",
      "34513                   0                   0                      0   \n",
      "23777                   0                   0                      0   \n",
      "24990                   0                   0                      0   \n",
      "24431                   0                   0                      0   \n",
      "3492                    0                   0                      0   \n",
      "32633                   0                   0                      0   \n",
      "30220                   0                   0                      0   \n",
      "22797                   0                   0                      0   \n",
      "16920                   0                   0                      0   \n",
      "26767                   0                   0                      0   \n",
      "11152                   0                   0                      0   \n",
      "17041                   0                   0                      0   \n",
      "34011                   0                   0                      0   \n",
      "37556                   0                   0                      0   \n",
      "11690                   0                   0                      0   \n",
      "30521                   0                   0                      0   \n",
      "38228                   0                   0                      0   \n",
      "14255                   0                   0                      0   \n",
      "19054                   0                   0                      0   \n",
      "3719                    0                   0                      0   \n",
      "28309                   0                   0                      0   \n",
      "2374                    0                   0                      0   \n",
      "3428                    0                   0                      0   \n",
      "36523                   0                   0                      0   \n",
      "29638                   0                   0                      0   \n",
      "17707                   0                   0                      0   \n",
      "17950                   0                   0                      0   \n",
      "16128                   0                   0                      0   \n",
      "...                   ...                 ...                    ...   \n",
      "5722                    0                   0                      0   \n",
      "36589                   0                   0                      0   \n",
      "36590                   0                   0                      0   \n",
      "15349                   0                   0                      0   \n",
      "14798                   0                   0                      0   \n",
      "8713                    0                   0                      0   \n",
      "29649                   0                   0                      0   \n",
      "7835                    0                   0                      0   \n",
      "4093                    0                   0                      0   \n",
      "32127                   0                   0                      0   \n",
      "31000                   0                   0                      0   \n",
      "31561                   0                   0                      0   \n",
      "26440                   0                   0                      0   \n",
      "29215                   0                   0                      0   \n",
      "39023                   0                   0                      0   \n",
      "10943                   0                   0                      0   \n",
      "10301                   0                   0                      0   \n",
      "24235                   0                   0                      0   \n",
      "35802                   0                   0                      0   \n",
      "21801                   0                   0                      0   \n",
      "25652                   0                   0                      0   \n",
      "16270                   0                   0                      0   \n",
      "35820                   0                   0                      0   \n",
      "8357                    0                   0                      0   \n",
      "34705                   0                   0                      0   \n",
      "20188                   0                   0                      0   \n",
      "37212                   0                   0                      0   \n",
      "25934                   0                   0                      0   \n",
      "28979                   0                   0                      0   \n",
      "28810                   0                   0                      0   \n",
      "\n",
      "       adac.auslkrankschkontaktfaq         ...          wwtde.meetingoronline  \\\n",
      "17788                            0         ...                              0   \n",
      "19816                            0         ...                              0   \n",
      "34513                            0         ...                              0   \n",
      "23777                            0         ...                              0   \n",
      "24990                            0         ...                              0   \n",
      "24431                            0         ...                              0   \n",
      "3492                             0         ...                              0   \n",
      "32633                            0         ...                              0   \n",
      "30220                            0         ...                              0   \n",
      "22797                            0         ...                              0   \n",
      "16920                            0         ...                              0   \n",
      "26767                            0         ...                              0   \n",
      "11152                            0         ...                              0   \n",
      "17041                            0         ...                              0   \n",
      "34011                            0         ...                              0   \n",
      "37556                            0         ...                              0   \n",
      "11690                            0         ...                              0   \n",
      "30521                            0         ...                              0   \n",
      "38228                            0         ...                              0   \n",
      "14255                            0         ...                              0   \n",
      "19054                            0         ...                              0   \n",
      "3719                             0         ...                              0   \n",
      "28309                            0         ...                              0   \n",
      "2374                             0         ...                              0   \n",
      "3428                             0         ...                              0   \n",
      "36523                            0         ...                              0   \n",
      "29638                            0         ...                              0   \n",
      "17707                            0         ...                              0   \n",
      "17950                            0         ...                              0   \n",
      "16128                            0         ...                              0   \n",
      "...                            ...         ...                            ...   \n",
      "5722                             0         ...                              0   \n",
      "36589                            0         ...                              0   \n",
      "36590                            0         ...                              0   \n",
      "15349                            0         ...                              0   \n",
      "14798                            0         ...                              0   \n",
      "8713                             0         ...                              0   \n",
      "29649                            0         ...                              0   \n",
      "7835                             0         ...                              0   \n",
      "4093                             0         ...                              0   \n",
      "32127                            0         ...                              0   \n",
      "31000                            0         ...                              0   \n",
      "31561                            0         ...                              0   \n",
      "26440                            0         ...                              0   \n",
      "29215                            0         ...                              0   \n",
      "39023                            0         ...                              0   \n",
      "10943                            0         ...                              0   \n",
      "10301                            0         ...                              0   \n",
      "24235                            0         ...                              0   \n",
      "35802                            0         ...                              0   \n",
      "21801                            0         ...                              0   \n",
      "25652                            0         ...                              0   \n",
      "16270                            0         ...                              0   \n",
      "35820                            0         ...                              0   \n",
      "8357                             0         ...                              0   \n",
      "34705                            0         ...                              0   \n",
      "20188                            0         ...                              0   \n",
      "37212                            0         ...                              0   \n",
      "25934                            0         ...                              0   \n",
      "28979                            0         ...                              0   \n",
      "28810                            0         ...                              0   \n",
      "\n",
      "       wwtde.meetingsite  wwtde.mobileapp  wwtde.onlinesite  wwtde.propoints  \\\n",
      "17788                  0                0                 0                0   \n",
      "19816                  0                0                 0                0   \n",
      "34513                  0                0                 0                0   \n",
      "23777                  0                0                 0                0   \n",
      "24990                  0                0                 0                0   \n",
      "24431                  0                0                 0                0   \n",
      "3492                   0                0                 0                0   \n",
      "32633                  0                0                 0                0   \n",
      "30220                  0                0                 0                0   \n",
      "22797                  0                0                 0                0   \n",
      "16920                  0                0                 0                0   \n",
      "26767                  0                0                 0                0   \n",
      "11152                  0                0                 0                0   \n",
      "17041                  0                0                 0                0   \n",
      "34011                  0                0                 0                0   \n",
      "37556                  0                0                 0                0   \n",
      "11690                  0                0                 0                0   \n",
      "30521                  0                0                 0                0   \n",
      "38228                  0                0                 0                0   \n",
      "14255                  0                0                 0                0   \n",
      "19054                  0                0                 0                0   \n",
      "3719                   0                0                 0                0   \n",
      "28309                  0                0                 0                0   \n",
      "2374                   0                0                 0                0   \n",
      "3428                   0                0                 0                0   \n",
      "36523                  0                0                 0                0   \n",
      "29638                  0                0                 0                0   \n",
      "17707                  0                0                 0                0   \n",
      "17950                  0                0                 0                0   \n",
      "16128                  0                0                 0                0   \n",
      "...                  ...              ...               ...              ...   \n",
      "5722                   0                0                 0                0   \n",
      "36589                  0                0                 0                0   \n",
      "36590                  0                0                 0                0   \n",
      "15349                  0                0                 0                0   \n",
      "14798                  0                0                 0                0   \n",
      "8713                   0                0                 0                0   \n",
      "29649                  0                0                 0                0   \n",
      "7835                   0                0                 0                0   \n",
      "4093                   0                0                 0                0   \n",
      "32127                  0                0                 0                0   \n",
      "31000                  0                0                 0                0   \n",
      "31561                  0                0                 0                0   \n",
      "26440                  0                0                 0                0   \n",
      "29215                  0                0                 0                0   \n",
      "39023                  0                0                 0                0   \n",
      "10943                  0                0                 0                0   \n",
      "10301                  0                0                 0                0   \n",
      "24235                  0                0                 0                0   \n",
      "35802                  0                0                 0                0   \n",
      "21801                  0                0                 0                0   \n",
      "25652                  0                0                 0                0   \n",
      "16270                  0                0                 0                0   \n",
      "35820                  0                0                 0                0   \n",
      "8357                   0                0                 0                0   \n",
      "34705                  0                0                 0                0   \n",
      "20188                  0                0                 0                0   \n",
      "37212                  0                0                 0                0   \n",
      "25934                  0                0                 0                0   \n",
      "28979                  0                0                 0                0   \n",
      "28810                  0                0                 0                0   \n",
      "\n",
      "       wwtde.signupstep1  wwtde.signupstep2  wwtde.success  wwtde.worksonline  \\\n",
      "17788                  0                  0              0                  0   \n",
      "19816                  0                  0              0                  0   \n",
      "34513                  0                  0              0                  0   \n",
      "23777                  0                  0              0                  0   \n",
      "24990                  0                  0              0                  0   \n",
      "24431                  0                  0              0                  0   \n",
      "3492                   0                  0              0                  0   \n",
      "32633                  0                  0              0                  0   \n",
      "30220                  0                  0              0                  0   \n",
      "22797                  0                  0              0                  0   \n",
      "16920                  0                  0              0                  0   \n",
      "26767                  0                  0              0                  0   \n",
      "11152                  0                  0              0                  0   \n",
      "17041                  0                  0              0                  0   \n",
      "34011                  0                  0              0                  0   \n",
      "37556                  0                  0              0                  0   \n",
      "11690                  0                  0              0                  0   \n",
      "30521                  0                  0              0                  0   \n",
      "38228                  0                  0              0                  0   \n",
      "14255                  0                  0              0                  0   \n",
      "19054                  0                  0              0                  0   \n",
      "3719                   0                  0              0                  0   \n",
      "28309                  0                  0              0                  0   \n",
      "2374                   0                  0              0                  0   \n",
      "3428                   0                  0              0                  0   \n",
      "36523                  0                  0              0                  0   \n",
      "29638                  0                  0              0                  0   \n",
      "17707                  0                  0              0                  0   \n",
      "17950                  0                  0              0                  0   \n",
      "16128                  0                  0              0                  0   \n",
      "...                  ...                ...            ...                ...   \n",
      "5722                   0                  0              0                  0   \n",
      "36589                  0                  0              0                  0   \n",
      "36590                  0                  0              0                  0   \n",
      "15349                  0                  0              0                  0   \n",
      "14798                  0                  0              0                  0   \n",
      "8713                   0                  0              0                  0   \n",
      "29649                  0                  0              0                  0   \n",
      "7835                   0                  0              0                  0   \n",
      "4093                   0                  0              0                  0   \n",
      "32127                  0                  0              0                  0   \n",
      "31000                  0                  0              0                  0   \n",
      "31561                  0                  0              0                  0   \n",
      "26440                  0                  0              0                  0   \n",
      "29215                  0                  0              0                  0   \n",
      "39023                  0                  0              0                  0   \n",
      "10943                  0                  0              0                  0   \n",
      "10301                  0                  0              0                  0   \n",
      "24235                  0                  0              0                  0   \n",
      "35802                  0                  0              0                  0   \n",
      "21801                  0                  0              0                  0   \n",
      "25652                  0                  0              0                  0   \n",
      "16270                  0                  0              0                  0   \n",
      "35820                  0                  0              0                  0   \n",
      "8357                   0                  0              0                  0   \n",
      "34705                  0                  0              0                  0   \n",
      "20188                  0                  0              0                  0   \n",
      "37212                  0                  0              0                  0   \n",
      "25934                  0                  0              0                  0   \n",
      "28979                  0                  0              0                  0   \n",
      "28810                  0                  0              0                  0   \n",
      "\n",
      "       zentis.landingpage  \n",
      "17788                   0  \n",
      "19816                   0  \n",
      "34513                   0  \n",
      "23777                   0  \n",
      "24990                   0  \n",
      "24431                   0  \n",
      "3492                    0  \n",
      "32633                   0  \n",
      "30220                   0  \n",
      "22797                   0  \n",
      "16920                   0  \n",
      "26767                   0  \n",
      "11152                   0  \n",
      "17041                   0  \n",
      "34011                   0  \n",
      "37556                   0  \n",
      "11690                   0  \n",
      "30521                   0  \n",
      "38228                   0  \n",
      "14255                   0  \n",
      "19054                   0  \n",
      "3719                    0  \n",
      "28309                   0  \n",
      "2374                    0  \n",
      "3428                    0  \n",
      "36523                   0  \n",
      "29638                   0  \n",
      "17707                   0  \n",
      "17950                   0  \n",
      "16128                   0  \n",
      "...                   ...  \n",
      "5722                    0  \n",
      "36589                   0  \n",
      "36590                   0  \n",
      "15349                   0  \n",
      "14798                   0  \n",
      "8713                    0  \n",
      "29649                   0  \n",
      "7835                    0  \n",
      "4093                    0  \n",
      "32127                   0  \n",
      "31000                   0  \n",
      "31561                   0  \n",
      "26440                   0  \n",
      "29215                   0  \n",
      "39023                   0  \n",
      "10943                   0  \n",
      "10301                   0  \n",
      "24235                   0  \n",
      "35802                   0  \n",
      "21801                   0  \n",
      "25652                   0  \n",
      "16270                   0  \n",
      "35820                   0  \n",
      "8357                    0  \n",
      "34705                   0  \n",
      "20188                   0  \n",
      "37212                   0  \n",
      "25934                   0  \n",
      "28979                   0  \n",
      "28810                   0  \n",
      "\n",
      "[29283 rows x 3417 columns] 17788    0\n",
      "19816    0\n",
      "34513    0\n",
      "23777    1\n",
      "24990    0\n",
      "24431    1\n",
      "3492     0\n",
      "32633    1\n",
      "30220    0\n",
      "22797    1\n",
      "16920    0\n",
      "26767    0\n",
      "11152    1\n",
      "17041    1\n",
      "34011    1\n",
      "37556    1\n",
      "11690    0\n",
      "30521    0\n",
      "38228    0\n",
      "14255    0\n",
      "19054    1\n",
      "3719     0\n",
      "28309    0\n",
      "2374     1\n",
      "3428     0\n",
      "36523    0\n",
      "29638    1\n",
      "17707    1\n",
      "17950    0\n",
      "16128    0\n",
      "        ..\n",
      "5722     1\n",
      "36589    1\n",
      "36590    0\n",
      "15349    1\n",
      "14798    0\n",
      "8713     0\n",
      "29649    0\n",
      "7835     0\n",
      "4093     0\n",
      "32127    0\n",
      "31000    0\n",
      "31561    0\n",
      "26440    1\n",
      "29215    0\n",
      "39023    1\n",
      "10943    1\n",
      "10301    0\n",
      "24235    1\n",
      "35802    0\n",
      "21801    0\n",
      "25652    0\n",
      "16270    1\n",
      "35820    0\n",
      "8357     1\n",
      "34705    0\n",
      "20188    1\n",
      "37212    1\n",
      "25934    1\n",
      "28979    1\n",
      "28810    0\n",
      "Name: Sex, dtype: float64\n"
     ]
    },
    {
     "ename": "AttributeError",
     "evalue": "'GridSearchCV' object has no attribute 'best_score_'",
     "output_type": "error",
     "traceback": [
      "\u001b[1;31m---------------------------------------------------------------------------\u001b[0m",
      "\u001b[1;31mAttributeError\u001b[0m                            Traceback (most recent call last)",
      "\u001b[1;32m<ipython-input-82-2d9746507489>\u001b[0m in \u001b[0;36m<module>\u001b[1;34m()\u001b[0m\n\u001b[0;32m      1\u001b[0m \u001b[1;33m\u001b[0m\u001b[0m\n\u001b[0;32m      2\u001b[0m \u001b[0mnb_ligne\u001b[0m \u001b[1;33m=\u001b[0m \u001b[1;36m10\u001b[0m\u001b[1;33m\u001b[0m\u001b[0m\n\u001b[1;32m----> 3\u001b[1;33m \u001b[0msgdc\u001b[0m \u001b[1;33m=\u001b[0m \u001b[0mSGDClassifier_grid_search\u001b[0m\u001b[1;33m(\u001b[0m\u001b[0mX_train\u001b[0m\u001b[1;33m[\u001b[0m\u001b[1;33m:\u001b[0m\u001b[0mnb_ligne\u001b[0m\u001b[1;33m]\u001b[0m\u001b[1;33m,\u001b[0m \u001b[0mY_train\u001b[0m\u001b[1;33m[\u001b[0m\u001b[1;33m:\u001b[0m\u001b[0mnb_ligne\u001b[0m\u001b[1;33m]\u001b[0m\u001b[1;33m)\u001b[0m\u001b[1;33m\u001b[0m\u001b[0m\n\u001b[0m",
      "\u001b[1;32m<ipython-input-74-5663eb632071>\u001b[0m in \u001b[0;36mSGDClassifier_grid_search\u001b[1;34m(df, Y)\u001b[0m\n\u001b[0;32m     30\u001b[0m     \u001b[1;32mexcept\u001b[0m \u001b[0mException\u001b[0m \u001b[1;32mas\u001b[0m \u001b[0me\u001b[0m \u001b[1;33m:\u001b[0m \u001b[1;32mprint\u001b[0m \u001b[1;34m\"[%s - 2] : %s\"\u001b[0m\u001b[1;33m%\u001b[0m\u001b[1;33m(\u001b[0m\u001b[0mgrid_type\u001b[0m\u001b[1;33m,\u001b[0m\u001b[0me\u001b[0m\u001b[1;33m)\u001b[0m \u001b[1;33m;\u001b[0m \u001b[1;32mprint\u001b[0m \u001b[1;34m\"x_train, y_train : \"\u001b[0m\u001b[1;33m,\u001b[0m \u001b[0mX_train\u001b[0m\u001b[1;33m,\u001b[0m \u001b[0mY_train\u001b[0m\u001b[1;33m\u001b[0m\u001b[0m\n\u001b[0;32m     31\u001b[0m \u001b[1;33m\u001b[0m\u001b[0m\n\u001b[1;32m---> 32\u001b[1;33m     \u001b[1;32mprint\u001b[0m \u001b[1;34m\" best_score_ = %.2f with =  %s \"\u001b[0m\u001b[1;33m%\u001b[0m\u001b[1;33m(\u001b[0m\u001b[0mgrid\u001b[0m\u001b[1;33m.\u001b[0m\u001b[0mbest_score_\u001b[0m\u001b[1;33m,\u001b[0m \u001b[0mgrid\u001b[0m\u001b[1;33m.\u001b[0m\u001b[0mbest_estimator_\u001b[0m \u001b[1;33m)\u001b[0m \u001b[1;33m;\u001b[0m \u001b[0msys\u001b[0m\u001b[1;33m.\u001b[0m\u001b[0mstdout\u001b[0m\u001b[1;33m.\u001b[0m\u001b[0mflush\u001b[0m\u001b[1;33m(\u001b[0m\u001b[1;33m)\u001b[0m\u001b[1;33m\u001b[0m\u001b[0m\n\u001b[0m\u001b[0;32m     33\u001b[0m     \u001b[1;32mreturn\u001b[0m \u001b[0mgrid\u001b[0m\u001b[1;33m\u001b[0m\u001b[0m\n",
      "\u001b[1;31mAttributeError\u001b[0m: 'GridSearchCV' object has no attribute 'best_score_'"
     ]
    }
   ],
   "source": [
    "\n",
    "nb_ligne = 10\n",
    "sgdc = SGDClassifier_grid_search(X_train[:nb_ligne], Y_train[:nb_ligne])"
   ]
  },
  {
   "cell_type": "code",
   "execution_count": 83,
   "metadata": {
    "collapsed": false
   },
   "outputs": [
    {
     "ename": "AttributeError",
     "evalue": "probability estimates are not available for loss='hinge'",
     "output_type": "error",
     "traceback": [
      "\u001b[1;31m---------------------------------------------------------------------------\u001b[0m",
      "\u001b[1;31mAttributeError\u001b[0m                            Traceback (most recent call last)",
      "\u001b[1;32m<ipython-input-83-06642f43b6e6>\u001b[0m in \u001b[0;36m<module>\u001b[1;34m()\u001b[0m\n\u001b[0;32m      1\u001b[0m \u001b[1;33m\u001b[0m\u001b[0m\n\u001b[0;32m      2\u001b[0m \u001b[1;31m#Roc\u001b[0m\u001b[1;33m\u001b[0m\u001b[1;33m\u001b[0m\u001b[0m\n\u001b[1;32m----> 3\u001b[1;33m \u001b[0mdraw_roc_curve\u001b[0m\u001b[1;33m(\u001b[0m\u001b[0msgdc\u001b[0m\u001b[1;33m,\u001b[0m \u001b[0mX_test\u001b[0m\u001b[1;33m,\u001b[0m \u001b[0mY_test\u001b[0m\u001b[1;33m,\u001b[0m \u001b[1;34m\"Sex prediction by SVM\"\u001b[0m\u001b[1;33m)\u001b[0m\u001b[1;33m\u001b[0m\u001b[0m\n\u001b[0m",
      "\u001b[1;32m<ipython-input-5-282932a21514>\u001b[0m in \u001b[0;36mdraw_roc_curve\u001b[1;34m(fitted_c, x_test, y_test, title)\u001b[0m\n\u001b[0;32m      5\u001b[0m     \u001b[1;32mimport\u001b[0m \u001b[0mmatplotlib\u001b[0m\u001b[1;33m.\u001b[0m\u001b[0mpyplot\u001b[0m \u001b[1;32mas\u001b[0m \u001b[0mplt\u001b[0m\u001b[1;33m\u001b[0m\u001b[0m\n\u001b[0;32m      6\u001b[0m     \u001b[0mc\u001b[0m                                        \u001b[1;33m=\u001b[0m \u001b[0mfitted_c\u001b[0m\u001b[1;33m\u001b[0m\u001b[0m\n\u001b[1;32m----> 7\u001b[1;33m     \u001b[0mprobas\u001b[0m                                   \u001b[1;33m=\u001b[0m \u001b[0mc\u001b[0m\u001b[1;33m.\u001b[0m\u001b[0mpredict_proba\u001b[0m\u001b[1;33m(\u001b[0m\u001b[0mx_test\u001b[0m\u001b[1;33m)\u001b[0m\u001b[1;33m\u001b[0m\u001b[0m\n\u001b[0m\u001b[0;32m      8\u001b[0m     \u001b[0mfalse_positive_rate\u001b[0m\u001b[1;33m,\u001b[0m \u001b[0mrecall_\u001b[0m\u001b[1;33m,\u001b[0m \u001b[0mthresholds\u001b[0m \u001b[1;33m=\u001b[0m \u001b[0mroc_curve\u001b[0m\u001b[1;33m(\u001b[0m\u001b[0my_test\u001b[0m\u001b[1;33m,\u001b[0m \u001b[0mprobas\u001b[0m\u001b[1;33m[\u001b[0m\u001b[1;33m:\u001b[0m\u001b[1;33m,\u001b[0m\u001b[1;36m1\u001b[0m\u001b[1;33m]\u001b[0m\u001b[1;33m)\u001b[0m\u001b[1;33m\u001b[0m\u001b[0m\n\u001b[0;32m      9\u001b[0m     \u001b[0mroc_auc\u001b[0m                                  \u001b[1;33m=\u001b[0m \u001b[0mauc\u001b[0m\u001b[1;33m(\u001b[0m\u001b[0mfalse_positive_rate\u001b[0m\u001b[1;33m,\u001b[0m \u001b[0mrecall_\u001b[0m\u001b[1;33m)\u001b[0m\u001b[1;33m\u001b[0m\u001b[0m\n",
      "\u001b[1;32mC:\\Users\\Yacine\\Anaconda3\\envs\\py27\\lib\\site-packages\\sklearn\\utils\\metaestimators.pyc\u001b[0m in \u001b[0;36m__get__\u001b[1;34m(self, obj, type)\u001b[0m\n\u001b[0;32m     33\u001b[0m             \u001b[1;31m# delegate only on instances, not the classes.\u001b[0m\u001b[1;33m\u001b[0m\u001b[1;33m\u001b[0m\u001b[0m\n\u001b[0;32m     34\u001b[0m             \u001b[1;31m# this is to allow access to the docstrings.\u001b[0m\u001b[1;33m\u001b[0m\u001b[1;33m\u001b[0m\u001b[0m\n\u001b[1;32m---> 35\u001b[1;33m             \u001b[0mself\u001b[0m\u001b[1;33m.\u001b[0m\u001b[0mget_attribute\u001b[0m\u001b[1;33m(\u001b[0m\u001b[0mobj\u001b[0m\u001b[1;33m)\u001b[0m\u001b[1;33m\u001b[0m\u001b[0m\n\u001b[0m\u001b[0;32m     36\u001b[0m         \u001b[1;31m# lambda, but not partial, allows help() to work with update_wrapper\u001b[0m\u001b[1;33m\u001b[0m\u001b[1;33m\u001b[0m\u001b[0m\n\u001b[0;32m     37\u001b[0m         \u001b[0mout\u001b[0m \u001b[1;33m=\u001b[0m \u001b[1;32mlambda\u001b[0m \u001b[1;33m*\u001b[0m\u001b[0margs\u001b[0m\u001b[1;33m,\u001b[0m \u001b[1;33m**\u001b[0m\u001b[0mkwargs\u001b[0m\u001b[1;33m:\u001b[0m \u001b[0mself\u001b[0m\u001b[1;33m.\u001b[0m\u001b[0mfn\u001b[0m\u001b[1;33m(\u001b[0m\u001b[0mobj\u001b[0m\u001b[1;33m,\u001b[0m \u001b[1;33m*\u001b[0m\u001b[0margs\u001b[0m\u001b[1;33m,\u001b[0m \u001b[1;33m**\u001b[0m\u001b[0mkwargs\u001b[0m\u001b[1;33m)\u001b[0m\u001b[1;33m\u001b[0m\u001b[0m\n",
      "\u001b[1;32mC:\\Users\\Yacine\\Anaconda3\\envs\\py27\\lib\\site-packages\\sklearn\\linear_model\\stochastic_gradient.pyc\u001b[0m in \u001b[0;36mpredict_proba\u001b[1;34m(self)\u001b[0m\n\u001b[0;32m    754\u001b[0m         \u001b[0mhttp\u001b[0m\u001b[1;33m:\u001b[0m\u001b[1;33m//\u001b[0m\u001b[0mjmlr\u001b[0m\u001b[1;33m.\u001b[0m\u001b[0mcsail\u001b[0m\u001b[1;33m.\u001b[0m\u001b[0mmit\u001b[0m\u001b[1;33m.\u001b[0m\u001b[0medu\u001b[0m\u001b[1;33m/\u001b[0m\u001b[0mpapers\u001b[0m\u001b[1;33m/\u001b[0m\u001b[0mvolume2\u001b[0m\u001b[1;33m/\u001b[0m\u001b[0mzhang02c\u001b[0m\u001b[1;33m/\u001b[0m\u001b[0mzhang02c\u001b[0m\u001b[1;33m.\u001b[0m\u001b[0mpdf\u001b[0m\u001b[1;33m\u001b[0m\u001b[0m\n\u001b[0;32m    755\u001b[0m         \"\"\"\n\u001b[1;32m--> 756\u001b[1;33m         \u001b[0mself\u001b[0m\u001b[1;33m.\u001b[0m\u001b[0m_check_proba\u001b[0m\u001b[1;33m(\u001b[0m\u001b[1;33m)\u001b[0m\u001b[1;33m\u001b[0m\u001b[0m\n\u001b[0m\u001b[0;32m    757\u001b[0m         \u001b[1;32mreturn\u001b[0m \u001b[0mself\u001b[0m\u001b[1;33m.\u001b[0m\u001b[0m_predict_proba\u001b[0m\u001b[1;33m\u001b[0m\u001b[0m\n\u001b[0;32m    758\u001b[0m \u001b[1;33m\u001b[0m\u001b[0m\n",
      "\u001b[1;32mC:\\Users\\Yacine\\Anaconda3\\envs\\py27\\lib\\site-packages\\sklearn\\linear_model\\stochastic_gradient.pyc\u001b[0m in \u001b[0;36m_check_proba\u001b[1;34m(self)\u001b[0m\n\u001b[0;32m    719\u001b[0m         \u001b[1;32mif\u001b[0m \u001b[0mself\u001b[0m\u001b[1;33m.\u001b[0m\u001b[0mloss\u001b[0m \u001b[1;32mnot\u001b[0m \u001b[1;32min\u001b[0m \u001b[1;33m(\u001b[0m\u001b[1;34m\"log\"\u001b[0m\u001b[1;33m,\u001b[0m \u001b[1;34m\"modified_huber\"\u001b[0m\u001b[1;33m)\u001b[0m\u001b[1;33m:\u001b[0m\u001b[1;33m\u001b[0m\u001b[0m\n\u001b[0;32m    720\u001b[0m             raise AttributeError(\"probability estimates are not available for\"\n\u001b[1;32m--> 721\u001b[1;33m                                  \" loss=%r\" % self.loss)\n\u001b[0m\u001b[0;32m    722\u001b[0m \u001b[1;33m\u001b[0m\u001b[0m\n\u001b[0;32m    723\u001b[0m     \u001b[1;33m@\u001b[0m\u001b[0mproperty\u001b[0m\u001b[1;33m\u001b[0m\u001b[0m\n",
      "\u001b[1;31mAttributeError\u001b[0m: probability estimates are not available for loss='hinge'"
     ]
    }
   ],
   "source": [
    "\n",
    "#Roc\n",
    "draw_roc_curve(sgdc, X_test, Y_test, \"Sex prediction by SVM\")\n"
   ]
  },
  {
   "cell_type": "code",
   "execution_count": 84,
   "metadata": {
    "collapsed": false
   },
   "outputs": [
    {
     "data": {
      "image/png": "[encoded data removed]",
      "text/plain": [
       "<matplotlib.figure.Figure at 0x20a173c8>"
      ]
     },
     "metadata": {},
     "output_type": "display_data"
    }
   ],
   "source": [
    "#Matrice de confusion\n",
    "\n",
    "draw_confusion_matrix(Y_test, sgdc.predict(X_test), \"\")"
   ]
  },
  {
   "cell_type": "code",
   "execution_count": null,
   "metadata": {
    "collapsed": false
   },
   "outputs": [],
   "source": [
    "\n"
   ]
  },
  {
   "cell_type": "markdown",
   "metadata": {
    "collapsed": true
   },
   "source": [
    "#### 7) Commentaire des différents résultats obtenues"
   ]
  },
  {
   "cell_type": "markdown",
   "metadata": {
    "collapsed": false
   },
   "source": [
    "L'algorithme SGD est stochastique, il est donc normal dobtenir des résultats différent à chaque lancement\"\"\"\n",
    "Plus globalement:  On a spliter les données au harsard,obtenant par la meme un jeu différent pour chaque split, chaque moment du split et chaque ordinateur, d'ou les différents resultats obtenu ici."
   ]
  },
  {
   "cell_type": "code",
   "execution_count": null,
   "metadata": {
    "collapsed": true
   },
   "outputs": [],
   "source": []
  },
  {
   "cell_type": "code",
   "execution_count": null,
   "metadata": {
    "collapsed": true
   },
   "outputs": [],
   "source": []
  },
  {
   "cell_type": "code",
   "execution_count": null,
   "metadata": {
    "collapsed": true
   },
   "outputs": [],
   "source": []
  }
 ],
 "metadata": {
  "kernelspec": {
   "display_name": "Python 2",
   "language": "python",
   "name": "python2"
  },
  "language_info": {
   "codemirror_mode": {
    "name": "ipython",
    "version": 2
   },
   "file_extension": ".py",
   "mimetype": "text/x-python",
   "name": "python",
   "nbconvert_exporter": "python",
   "pygments_lexer": "ipython2",
   "version": "2.7.11"
  }
 },
 "nbformat": 4,
 "nbformat_minor": 0
}
